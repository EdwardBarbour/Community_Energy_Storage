{
 "cells": [
  {
   "cell_type": "code",
   "execution_count": 1,
   "metadata": {},
   "outputs": [
    {
     "name": "stderr",
     "output_type": "stream",
     "text": [
      "/usr/local/lib/python2.7/dist-packages/matplotlib/font_manager.py:273: UserWarning: Matplotlib is building the font cache using fc-list. This may take a moment.\n",
      "  warnings.warn('Matplotlib is building the font cache using fc-list. This may take a moment.')\n"
     ]
    }
   ],
   "source": [
    "execfile('preamble_and_functions.py')\n",
    "\n",
    "%matplotlib inline"
   ]
  },
  {
   "cell_type": "code",
   "execution_count": 2,
   "metadata": {},
   "outputs": [
    {
     "name": "stdout",
     "output_type": "stream",
     "text": [
      "0.825\n"
     ]
    }
   ],
   "source": [
    "### ------ the width of a time period ------ ###\n",
    "Delta_t = 0.25\n",
    "\n",
    "# storage properties\n",
    "installedCap = 1 # kW\n",
    "maxDOD = 0.85 # % equivalent full cycle (EFC)\n",
    "EoL = 0.8 # end of life % equivalent full charge \n",
    "maxSOC = np.mean([EoL*installedCap, maxDOD*installedCap])# kWh\n",
    "minSOC = 0 # kWh\n",
    "maxChg = 0.5 # kW\n",
    "maxDisChg = -0.5 # kW\n",
    "etaChg = 0.948\n",
    "etaDisChg = 0.948\n",
    "storageProperties = []\n",
    "storageProperties.append(maxSOC-minSOC) # kWh\n",
    "storageProperties.append(maxChg) # kW maxChg\n",
    "storageProperties.append(maxDisChg) # kW maxDisChg\n",
    "storageProperties.append(etaChg) # etaChg\n",
    "storageProperties.append(etaDisChg) # etaDisChg\n",
    "billingOption = []\n",
    "# if billingOption[1] == 1 then need a solar export price in billingOption[2], otherwise no\n",
    "billingChoice = 1\n",
    "priceExport = 5 # cents/kWh\n",
    "# choose whether device is allowed to buy and sell back to grid\n",
    "marketArbitrage = False\n",
    "billingOption.append(billingChoice) \n",
    "billingOption.append(priceExport)\n",
    "billingOption.append(marketArbitrage)\n",
    "\n",
    "#### ---------- one price every Delta_t ----####\n",
    "price = np.ones((96*30))*35 # cents per kWh\n",
    "print maxSOC"
   ]
  },
  {
   "cell_type": "code",
   "execution_count": 3,
   "metadata": {},
   "outputs": [],
   "source": [
    "filename = 'IntermediateData/Workspace96.csv'\n",
    "WSpace = []\n",
    "with open(filename) as InFile:\n",
    "    reader = csv.reader(InFile, delimiter=',')\n",
    "    for row in reader:\n",
    "        WSpace.append(row)"
   ]
  },
  {
   "cell_type": "code",
   "execution_count": 4,
   "metadata": {},
   "outputs": [
    {
     "name": "stdout",
     "output_type": "stream",
     "text": [
      "(4574, 2880)\n",
      "Max and min gen per watt  40.1707175814 113.677665632\n"
     ]
    }
   ],
   "source": [
    "generation = np.genfromtxt('IntermediateData/camGenJan.csv', delimiter=',', dtype=None)\n",
    "print np.shape( generation )\n",
    "gSum = np.sum( generation, axis=1 )/4\n",
    "genMax = np.max(generation, axis=1)\n",
    "genPerWatt = gSum/genMax\n",
    "print 'Max and min gen per watt ', np.min( genPerWatt ), np.max( genPerWatt )"
   ]
  },
  {
   "cell_type": "code",
   "execution_count": 5,
   "metadata": {},
   "outputs": [
    {
     "name": "stdout",
     "output_type": "stream",
     "text": [
      "4574 4574\n"
     ]
    }
   ],
   "source": [
    "print len(WSpace), len(generation)"
   ]
  },
  {
   "cell_type": "code",
   "execution_count": 6,
   "metadata": {},
   "outputs": [],
   "source": [
    "# arrays for simulating\n",
    "cambridgeDemand = np.zeros((len(WSpace), len(price)))\n",
    "parcelCentroids = np.zeros((len(WSpace), 2))\n",
    "parc_accts = np.zeros((len(WSpace), 1))\n",
    "clusterIdx = np.zeros((len(WSpace)))\n",
    "\n",
    "for i in np.arange(len(WSpace)):\n",
    "    cambridgeDemand[i,:] = WSpace[i][0:len(price)]\n",
    "    parc_accts[i] = WSpace[i][len(price)+1]\n",
    "    parcelCentroids[i,:] = WSpace[i][len(price)+2:]\n",
    "    clusterIdx[i] = WSpace[i][len(price)]\n",
    "    \n",
    "cambridgeDemand[cambridgeDemand<0] = 0\n",
    "totUse = np.sum( cambridgeDemand, axis=1 ) \n",
    "\n",
    "# arrays for storing info\n",
    "user_cost = np.zeros((len(WSpace), 3))\n",
    "user_DOD = np.zeros((len(WSpace), 1))\n",
    "userSubType = np.zeros((len(WSpace),1))\n",
    "userSolarPower = np.zeros((len(WSpace),1))\n",
    "SolarGen = np.zeros((len(WSpace),1))\n",
    "userStorage = np.zeros((len(WSpace),1))       "
   ]
  },
  {
   "cell_type": "code",
   "execution_count": 7,
   "metadata": {},
   "outputs": [],
   "source": [
    "for i in np.arange(len(WSpace)):\n",
    "    userSolarPower[i] = np.max(generation[i,:])\n",
    "    SolarGen[i] = np.sum(generation[i, :])\n",
    "mis = np.zeros((len(WSpace)))\n",
    "for i, cLoad in enumerate(cambridgeDemand):\n",
    "    load = cLoad - generation[i,:]\n",
    "    mis[i] = -np.sum(load[load<0])/SolarGen[i]\n",
    "\n",
    "misBins = np.arange(0,1.1,0.1)\n",
    "misHist, mH_edges = np.histogram(mis, misBins, density=False)\n",
    "misWidths = mH_edges[1:]-mH_edges[:-1]"
   ]
  },
  {
   "cell_type": "code",
   "execution_count": 8,
   "metadata": {},
   "outputs": [],
   "source": [
    "kcluster = 200\n",
    "parcCoordDict = { key: value for (key, value) in zip(range(len(parcelCentroids)), parcelCentroids) }"
   ]
  },
  {
   "cell_type": "code",
   "execution_count": 9,
   "metadata": {},
   "outputs": [
    {
     "name": "stdout",
     "output_type": "stream",
     "text": [
      "0\n"
     ]
    },
    {
     "name": "stderr",
     "output_type": "stream",
     "text": [
      "/usr/local/lib/python2.7/dist-packages/ipykernel/__main__.py:66: VisibleDeprecationWarning: using a non-integer number instead of an integer will result in an error in the future\n",
      "/usr/local/lib/python2.7/dist-packages/ipykernel/__main__.py:69: VisibleDeprecationWarning: using a non-integer number instead of an integer will result in an error in the future\n",
      "/usr/local/lib/python2.7/dist-packages/ipykernel/__main__.py:70: VisibleDeprecationWarning: using a non-integer number instead of an integer will result in an error in the future\n",
      "/usr/local/lib/python2.7/dist-packages/ipykernel/__main__.py:75: VisibleDeprecationWarning: using a non-integer number instead of an integer will result in an error in the future\n"
     ]
    },
    {
     "name": "stdout",
     "output_type": "stream",
     "text": [
      "There are  1797 solar users\n",
      "[1 1 0 0 0 0 1 0 0 0]\n"
     ]
    }
   ],
   "source": [
    "# probabilities of adopting solar\n",
    "pSolarArray = np.asarray([0.4])\n",
    "# now load the forty percent example to keep everything the same\n",
    "FortyPercentSolarExample = np.genfromtxt('IntermediateData/FortyPercentExample.dat', delimiter=',')\n",
    "# information about microgrids\n",
    "misMG = np.zeros((kcluster, len(pSolarArray)))\n",
    "numSolUsers = np.zeros((kcluster,len(pSolarArray)))\n",
    "totalGen = np.zeros((kcluster,len(pSolarArray)))\n",
    "numUsers = np.zeros((kcluster))\n",
    "gList = []\n",
    "\n",
    "for pSolarNum, pSolar in enumerate(pSolarArray):\n",
    "    singleHomes = np.arange(len(clusterIdx))\n",
    "    first_user = 0\n",
    "    print pSolarNum\n",
    "    \n",
    "    sys.stdout.flush()\n",
    "    \n",
    "    # for storing the microgrid and individual loads\n",
    "    MG_dem_no_solar = np.zeros((kcluster,len(price)))\n",
    "    MG_dem_solar = np.zeros((kcluster,len(price)))\n",
    "    MG_gen = np.zeros((kcluster,len(price)))\n",
    "    storageLoads = np.zeros((len(cambridgeDemand),len(price)))\n",
    "    solarLoads = np.zeros((len(cambridgeDemand),len(price)))\n",
    "    SolarGen2 = np.zeros((len(cambridgeDemand)))\n",
    "    \n",
    "    userTrans = np.zeros((len(cambridgeDemand)))\n",
    "\n",
    "    for clstr in range(kcluster):\n",
    "        clusterHomes = [singleHomes[a] for a, b in enumerate(clusterIdx) if b==clstr]\n",
    "        numUsers[clstr] = len(clusterHomes)\n",
    "    \n",
    "        if len(clusterHomes) > 1:\n",
    "            points = parcelCentroids[clusterHomes]-parcelCentroids[0]\n",
    "            # make a minum spanning tree between each microgrid node\n",
    "            G = makeTree(points, clusterHomes, parcCoordDict)\n",
    "\n",
    "            # choose generator and storage nodes\n",
    "            genNodes = np.zeros((len(G), 2))\n",
    "            storageNodes = np.zeros((len(G),2))\n",
    "            for i in range(len(clusterHomes)):\n",
    "                r1 = random.uniform(0.0, 1.0)\n",
    "                if r1 < pSolar:\n",
    "                    genNodes[i, 0] = 1 # this isn't used - not picking randomly at the mo.\n",
    "                genNodes[i,0] = FortyPercentSolarExample[first_user+i]\n",
    "                \n",
    "            numSolUsers[clstr, pSolarNum] = np.sum(genNodes[:,0])\n",
    "            \n",
    "            # consider when each generation node also has storage\n",
    "            storageNodes[:,0] = genNodes[:,0]\n",
    "            #storageNodes[storageNodes[:,0]==1,1] = 0\n",
    "\n",
    "            groupAccts = [parc_accts[node][0] for node in G.nodes()]\n",
    "            # EE convention, loads are -ve\n",
    "            groupLoads = -( cambridgeDemand[np.where(parc_accts==groupAccts)[0],:] )\n",
    "            \n",
    "            userTrans[first_user:first_user+len(G)] = np.where(parc_accts==groupAccts)[0]            \n",
    "            \n",
    "            # PCC has value to balance loads in MG (Kirchoffs law)\n",
    "            PCCnogen = -(np.sum(groupLoads, axis=0))\n",
    "\n",
    "            totGen = 0\n",
    "            for i in range(len(groupAccts)):\n",
    "                genNodes[i, 1] = userTrans[first_user+i]\n",
    "                # add in the solar loads, EE convention generation is +ve\n",
    "                groupLoads[i,:] = groupLoads[i,:] + genNodes[i, 0] * (generation[genNodes[i, 1], :])\n",
    "                \n",
    "                if genNodes[i,0] == 1:\n",
    "                    SolarGen2[first_user+i] = np.sum( generation[genNodes[i, 1], :] )\n",
    "                    totGen = totGen + np.sum( generation[genNodes[i, 1], :] )\n",
    "                    userSubType[first_user+i] = 1\n",
    "                    #if storageNodes[i,0]==1:\n",
    "                    #    userStorage[first_user+i] = storageNodes[i,1]\n",
    "                    # calculate the cost using the export tariff\n",
    "                    MG_gen[clstr,:]=MG_gen[clstr,:]+generation[genNodes[i, 1], :]\n",
    "                \n",
    "                solarLoads[first_user+i,:] = groupLoads[i,:]\n",
    "            \n",
    "            if totGen<1:\n",
    "                print 'clstr', clstr, 'has no solar'\n",
    "                \n",
    "            totalGen[clstr, pSolarNum] = totGen\n",
    "            PCC = -(np.sum(groupLoads, axis=0))\n",
    "            first_user = first_user + len(clusterHomes)\n",
    "            MG_dem_no_solar[clstr,:]=PCCnogen\n",
    "            MG_dem_solar[clstr,:]=PCC\n",
    "            \n",
    "            # make a list containing all the MG networks\n",
    "            if pSolarNum == 0:\n",
    "                gList.append( G )\n",
    "    # finally calculate the misalignment on an MG level\n",
    "    for i, load in enumerate(MG_dem_solar):\n",
    "        if totalGen[i, pSolarNum]>0:\n",
    "            misMG[i, pSolarNum] = -np.sum(load[load<0])/totalGen[i, pSolarNum]\n",
    "\n",
    "print 'There are ', len( np.where(SolarGen2>0)[0] ), 'solar users'\n",
    "FortyPercentSolarExample = (SolarGen2>0)+0\n",
    "print FortyPercentSolarExample[0:10]\n",
    "#np.savetxt('IntermediateData/FortyPercentExample.dat', FortyPercentSolarExample, delimiter=',')"
   ]
  },
  {
   "cell_type": "code",
   "execution_count": 10,
   "metadata": {},
   "outputs": [],
   "source": [
    "cycles = 3000\n",
    "maxLi = 40\n",
    "# demonstrate the storage benefit, AOTC and total benefit for one microgrid\n",
    "r = 0.05 #interest rate\n",
    "\n",
    "# Model from david Parra tweaked to match powerwall 2\n",
    "def cost_Storage(noUnits):\n",
    "    RF = 0\n",
    "    LiIon_cellCost=250#*(1-RF)\n",
    "    LiIon_Disrate=0.5\n",
    "    Inverter_cost_3kW=1500\n",
    "    #BoP_cost_10kW=100*(1-RF)\n",
    "    Maintenance_cost_10kW=100\n",
    "\n",
    "    f=0.7\n",
    "    fp=0.6\n",
    "    # cell cost\n",
    "    LiIon_cell_cost=LiIon_cellCost*noUnits\n",
    "    # absolute inverter cost\n",
    "    LiIon_Inverter_cap=noUnits*LiIon_Disrate\n",
    "    Inverter_cost_LiIon=Inverter_cost_3kW*(LiIon_Inverter_cap/3.)**f\n",
    "    # Absolute BoP cost\n",
    "    #BoP_cost_LiIon=BoP_cost_10kW*(LiIon_Inverter_cap/10.)**fp\n",
    "    # Absolute Maintenance cost\n",
    "    Maintenance_cost_LiIon=Maintenance_cost_10kW*(LiIon_Inverter_cap/10.)**fp\n",
    "    \n",
    "    SC = Inverter_cost_LiIon + LiIon_cell_cost\n",
    "    MC = Maintenance_cost_LiIon# + BoP_cost_LiIon\n",
    "    return SC, MC"
   ]
  },
  {
   "cell_type": "code",
   "execution_count": 11,
   "metadata": {},
   "outputs": [
    {
     "data": {
      "text/plain": [
       "(6214.407263449128, 80.73443754472972)"
      ]
     },
     "execution_count": 11,
     "metadata": {},
     "output_type": "execute_result"
    }
   ],
   "source": [
    "# check what the cost of a battery with equal capacity to powerwall is\n",
    "cost_Storage(14)"
   ]
  },
  {
   "cell_type": "code",
   "execution_count": 12,
   "metadata": {},
   "outputs": [],
   "source": [
    "fs = 14\n",
    "\n",
    "MG_stReq = np.genfromtxt('Results/MG_required_st.csv', delimiter=',')\n",
    "Ind_stReq = np.genfromtxt('Results/Ind_required_st.csv', delimiter=',')\n"
   ]
  },
  {
   "cell_type": "code",
   "execution_count": 13,
   "metadata": {},
   "outputs": [
    {
     "name": "stdout",
     "output_type": "stream",
     "text": [
      "3497 individual users dont need storage\n",
      "78 Microgrids dont need storage\n",
      "Total storage for individuals 12974.0 kWh\n",
      "Total storage for microgrids 8506.0 kWh\n",
      "Mean storage size for individuals 12.0464252553 kWh\n"
     ]
    }
   ],
   "source": [
    "print len( np.where(Ind_stReq==0)[0] ), 'individual users dont need storage'\n",
    "print len( np.where(MG_stReq==0)[0] ), 'Microgrids dont need storage'\n",
    "print 'Total storage for individuals', np.sum(Ind_stReq), 'kWh'\n",
    "print 'Total storage for microgrids', np.sum(MG_stReq), 'kWh'\n",
    "print 'Mean storage size for individuals', np.mean( Ind_stReq[Ind_stReq>0] ), 'kWh'"
   ]
  },
  {
   "cell_type": "code",
   "execution_count": 14,
   "metadata": {
    "collapsed": true
   },
   "outputs": [],
   "source": [
    "#IRR parameters\n",
    "i_if = 0.02 # income inflation\n",
    "c_if = 0.02 # costs inflation"
   ]
  },
  {
   "cell_type": "code",
   "execution_count": 15,
   "metadata": {},
   "outputs": [
    {
     "name": "stderr",
     "output_type": "stream",
     "text": [
      "/usr/local/lib/python2.7/dist-packages/ipykernel/__main__.py:8: VisibleDeprecationWarning: using a non-integer number instead of an integer will result in an error in the future\n",
      "/usr/local/lib/python2.7/dist-packages/ipykernel/__main__.py:30: RuntimeWarning: invalid value encountered in double_scalars\n"
     ]
    }
   ],
   "source": [
    "# consider the case when each user has their optimum storage\n",
    "\n",
    "Ind_cost = np.zeros((4574, 4))\n",
    "Ind_IRR = np.zeros((4574))\n",
    "Ind_benefit = np.zeros((4574))\n",
    "for usr, load in enumerate(solarLoads):\n",
    "    \n",
    "    cost2 = np.sum( cambridgeDemand[userTrans[usr]] * price ) * Delta_t\n",
    "    Ind_cost[usr,0] = cost2\n",
    "           \n",
    "    if billingOption[0] == 1:\n",
    "        # calculate the cost using the export tariff\n",
    "        cost1 = np.sum(load[np.where(load>0)[0]]) * billingOption[1] * Delta_t\n",
    "        cost2 = -np.sum( load[np.where(load<0)[0]] * price[np.where(load<0)[0]] ) * Delta_t\n",
    "        Ind_cost[usr,1] = cost2-cost1\n",
    "    else:\n",
    "        cost2 = np.sum( load * price ) * Delta_t\n",
    "        Ind_cost[usr,1] = cost2\n",
    "    \n",
    "    alteredLoad=np.copy( load )\n",
    "    alteredPrice = np.copy( price )\n",
    "\n",
    "    newDemand, oldCost, newCost, SOC= \\\n",
    "    cycleCharging(Ind_stReq[usr], storageProperties, alteredLoad, alteredPrice, billingOption, Delta_t)    \n",
    "\n",
    "    alteredLoad = -newDemand\n",
    "    Ind_cost[usr,2] = oldCost\n",
    "    Ind_cost[usr,3] = newCost\n",
    "    \n",
    "    # now count the cycles in SOC\n",
    "    DOD = cycle_counter(SOC)/(installedCap*Ind_stReq[usr])\n",
    "\n",
    "    if np.isnan(DOD):\n",
    "        DOD = 1\n",
    "    if DOD <= 1:\n",
    "        DOD = 1\n",
    "    Li = cycles/(DOD*12)\n",
    "    if Li >= maxLi:\n",
    "        Li = maxLi \n",
    "\n",
    "    # now caluclate the total benefit of storage\n",
    "    storageCost, MC = cost_Storage(Ind_stReq[usr])  \n",
    "    A_tr = (1-(1/(1+r)**Li))/r\n",
    "    AOTC = (storageCost/A_tr + MC)/12\n",
    "    stB = (oldCost - newCost)/100\n",
    "    Ind_benefit[usr] = stB - AOTC\n",
    "    \n",
    "    try:\n",
    "        Ind_IRR[usr], NPV = calculate_IRR(storageCost, (stB*12), Li, MC, i_if, c_if, r)\n",
    "    except:\n",
    "        Ind_IRR[usr] = np.nan\n",
    "    storageLoads[usr,:] = alteredLoad\n"
   ]
  },
  {
   "cell_type": "code",
   "execution_count": 16,
   "metadata": {},
   "outputs": [
    {
     "name": "stdout",
     "output_type": "stream",
     "text": [
      "36.7008308964 4644.79300111\n"
     ]
    }
   ],
   "source": [
    "print stB, storageCost"
   ]
  },
  {
   "cell_type": "code",
   "execution_count": 17,
   "metadata": {},
   "outputs": [
    {
     "name": "stderr",
     "output_type": "stream",
     "text": [
      "/usr/local/lib/python2.7/dist-packages/ipykernel/__main__.py:32: RuntimeWarning: invalid value encountered in double_scalars\n"
     ]
    }
   ],
   "source": [
    "# consider the case when each MG has their optimum storage\n",
    "MG_dem_storage = np.zeros((np.shape(MG_dem_solar)))\n",
    "MG_cost = np.zeros((kcluster, 4))\n",
    "MG_benefit = np.zeros((kcluster))\n",
    "MG_IRR = np.zeros((kcluster))\n",
    "for clstr, negPCC in enumerate(MG_dem_solar):\n",
    "    \n",
    "    cost2 = np.sum( MG_dem_no_solar[clstr,:] * price ) * Delta_t\n",
    "    MG_cost[clstr,0] = cost2\n",
    "    \n",
    "    ## now make sure the sign of PCC is correct\n",
    "    PCC = -negPCC\n",
    "    \n",
    "    if billingOption[0] == 1:\n",
    "        cost1 = np.sum(PCC[np.where(PCC>0)[0]]) * billingOption[1] * Delta_t\n",
    "        cost2 = -np.sum( PCC[np.where(PCC<0)[0]] * price[np.where(PCC<0)[0]] ) * Delta_t\n",
    "        MG_cost[clstr,1] = cost2-cost1\n",
    "    else:\n",
    "        cost2 = np.sum( PCC * price ) * Delta_t\n",
    "        MG_cost[clstr,1] = cost2\n",
    "\n",
    "    alteredPCC=np.copy( PCC )\n",
    "    alteredPrice = np.copy( price )\n",
    "\n",
    "    newDemand, oldCost, newCost, SOC= \\\n",
    "    cycleCharging(MG_stReq[clstr], storageProperties, alteredPCC, alteredPrice, billingOption, Delta_t)    \n",
    "\n",
    "    alteredPCC = -newDemand \n",
    "    MG_cost[clstr,2] = oldCost\n",
    "    MG_cost[clstr,3] = newCost\n",
    "    \n",
    "    # now count the cycles in SOC\n",
    "    DOD = cycle_counter(SOC)/(installedCap*MG_stReq[clstr])\n",
    "\n",
    "    if np.isnan(DOD):\n",
    "        DOD = 1\n",
    "    if DOD <= 1:\n",
    "        DOD = 1\n",
    "    Li = cycles/(DOD*12)\n",
    "    if Li >= maxLi:\n",
    "        Li = maxLi \n",
    "\n",
    "    # now caluclate the total benefit of storage\n",
    "    storageCost, MC = cost_Storage(MG_stReq[clstr])  \n",
    "    A_tr = (1-(1/(1+r)**Li))/r\n",
    "    AOTC = (storageCost/A_tr + MC)/12\n",
    "    stB = (oldCost - newCost)/100\n",
    "    MG_benefit[clstr] = stB - AOTC\n",
    "    try:\n",
    "        MG_IRR[clstr], NPV = calculate_IRR(storageCost, (stB*12), Li, MC, i_if, c_if, r)\n",
    "    except:\n",
    "        MG_IRR[clstr] = np.nan\n",
    "    MG_dem_storage[clstr,:] = -alteredPCC\n"
   ]
  },
  {
   "cell_type": "code",
   "execution_count": 18,
   "metadata": {},
   "outputs": [
    {
     "name": "stderr",
     "output_type": "stream",
     "text": [
      "/usr/local/lib/python2.7/dist-packages/ipykernel/__main__.py:4: VisibleDeprecationWarning: using a non-integer number instead of an integer will result in an error in the future\n",
      "/usr/local/lib/python2.7/dist-packages/ipykernel/__main__.py:9: VisibleDeprecationWarning: using a non-integer number instead of an integer will result in an error in the future\n"
     ]
    }
   ],
   "source": [
    "MG_dem_ind_storage = np.zeros((np.shape(MG_dem_storage)))\n",
    "for clstr in range(kcluster):\n",
    "    if clstr == 0:\n",
    "        groupLoads = storageLoads[0:numUsers[0]]\n",
    "        #-ve is loads, +ve is generation\n",
    "        PCC = np.sum(groupLoads, axis=0)\n",
    "    else:\n",
    "        start = np.sum(numUsers[0:clstr])\n",
    "        groupLoads = storageLoads[start:start+numUsers[clstr],:]\n",
    "        PCC = np.sum(groupLoads, axis=0)\n",
    "    MG_dem_ind_storage[clstr,:] = -PCC"
   ]
  },
  {
   "cell_type": "code",
   "execution_count": 19,
   "metadata": {},
   "outputs": [
    {
     "name": "stdout",
     "output_type": "stream",
     "text": [
      "total energy consumption. IND:  3244.70893343 MG: 3244.70893343\n",
      "total solar gen. IND: 509.73557423 MG: 509.73557423\n",
      "no storage solar exports. IND: 55.8095014325 MG: 55.8095014325\n",
      "no storage solar imports. IND: 2790.78286063 MG: 2790.78286063\n",
      "total installed storage. IND: 12.974 MG: 8.506\n",
      "Average IRR IND: 7.05449251445 MG: 4.57316679751\n",
      "Imports with storage. IND: 2759.27585266 MG: 2743.21161176\n",
      "Exports with storage. IND: 6.56440731691 MG: 2.87633447853\n",
      "Import red. per unit IND: 2.42847294411 MG: 5.59266974773\n",
      "Export red. per unit IND: 3.79567551377 MG: 6.22303867317\n",
      "\n",
      "\n",
      "Total import reduction (MG) 47571.2488742\n",
      "Total import reduction (ind) 31507.0079769\n",
      "Total export reduction (MG) -52933.166954\n",
      "Total export reduction (ind) -49245.0941156\n"
     ]
    }
   ],
   "source": [
    "# # make a table of results\n",
    "\n",
    "print 'total energy consumption. IND: ', np.sum(cambridgeDemand)*Delta_t/1000, 'MG:', np.sum(cambridgeDemand)*Delta_t/1000\n",
    "print 'total solar gen. IND:', np.sum(SolarGen2)*Delta_t/1000, 'MG:', np.sum(SolarGen2)*Delta_t/1000\n",
    "print 'no storage solar exports. IND:', -np.sum(MG_dem_solar[MG_dem_solar<0])*Delta_t/1000, 'MG:', \\\n",
    "-np.sum(MG_dem_solar[MG_dem_solar<0])*Delta_t/1000\n",
    "print 'no storage solar imports. IND:', np.sum(MG_dem_solar[MG_dem_solar>0])*Delta_t/1000, 'MG:', \\\n",
    "np.sum(MG_dem_solar[MG_dem_solar>0])*Delta_t/1000\n",
    "print 'total installed storage. IND:', np.sum(Ind_stReq)/1000, 'MG:', np.sum(MG_stReq)/1000\n",
    "print 'Average IRR IND:', np.nanmean(Ind_IRR)*100, 'MG:', np.nanmean(MG_IRR)*100\n",
    "print 'Imports with storage. IND:', np.sum(MG_dem_ind_storage[MG_dem_ind_storage>0])*Delta_t/1000, \\\n",
    "'MG:', np.sum(MG_dem_storage[MG_dem_storage>0])*Delta_t/1000\n",
    "print 'Exports with storage. IND:', -np.sum(MG_dem_ind_storage[MG_dem_ind_storage<0])*Delta_t/1000, 'MG:', \\\n",
    "-np.sum(MG_dem_storage[MG_dem_storage<0])*Delta_t/1000\n",
    "print 'Import red. per unit IND:', Delta_t* (np.sum(MG_dem_solar[MG_dem_solar>0]) - \\\n",
    "np.sum(MG_dem_ind_storage[MG_dem_ind_storage>0])) / np.sum(Ind_stReq), \\\n",
    "'MG:', Delta_t* (np.sum(MG_dem_solar[MG_dem_solar>0]) - \\\n",
    "np.sum(MG_dem_storage[MG_dem_storage>0])) / np.sum(MG_stReq)\n",
    "print 'Export red. per unit IND:', Delta_t* (-np.sum(MG_dem_solar[MG_dem_solar<0]) + \\\n",
    "np.sum(MG_dem_ind_storage[MG_dem_ind_storage<0])) / np.sum(Ind_stReq), \\\n",
    "'MG:', Delta_t* (-np.sum(MG_dem_solar[MG_dem_solar<0]) + \\\n",
    "np.sum(MG_dem_storage[MG_dem_storage<0])) / np.sum(MG_stReq)\n",
    "\n",
    "print '\\n'\n",
    "\n",
    "print 'Total import reduction (MG)', \\\n",
    "np.sum(MG_dem_solar[MG_dem_solar>0])*Delta_t - np.sum(MG_dem_storage[MG_dem_storage>0])*Delta_t\n",
    "print 'Total import reduction (ind)', \\\n",
    "np.sum(MG_dem_solar[MG_dem_solar>0])*Delta_t - np.sum(MG_dem_ind_storage[MG_dem_ind_storage>0])*Delta_t\n",
    "\n",
    "print 'Total export reduction (MG)', \\\n",
    "np.sum(MG_dem_solar[MG_dem_solar<0])*Delta_t - np.sum(MG_dem_storage[MG_dem_storage<0])*Delta_t\n",
    "print 'Total export reduction (ind)', \\\n",
    "np.sum(MG_dem_solar[MG_dem_solar<0])*Delta_t - np.sum(MG_dem_ind_storage[MG_dem_ind_storage<0])*Delta_t\n",
    "\n"
   ]
  },
  {
   "cell_type": "code",
   "execution_count": 20,
   "metadata": {
    "scrolled": true
   },
   "outputs": [
    {
     "name": "stderr",
     "output_type": "stream",
     "text": [
      "/usr/local/lib/python2.7/dist-packages/ipykernel/__main__.py:12: RuntimeWarning: invalid value encountered in greater\n",
      "/usr/local/lib/python2.7/dist-packages/ipykernel/__main__.py:21: RuntimeWarning: invalid value encountered in greater\n"
     ]
    },
    {
     "data": {
      "image/png": "[encoded data removed]",
      "text/plain": [
       "<matplotlib.figure.Figure at 0x7f9ba0f74550>"
      ]
     },
     "metadata": {},
     "output_type": "display_data"
    }
   ],
   "source": [
    "EAB = np.zeros((4574))\n",
    "for i in range(4574):\n",
    "    if Ind_stReq[i]>0:\n",
    "        EAB[i] = 12*Ind_benefit[i]/Ind_stReq[i]\n",
    "MEAB = np.zeros((kcluster))\n",
    "for i in range(kcluster):\n",
    "    if MG_stReq[i]>0:\n",
    "        MEAB[i] = 12*MG_benefit[i]/MG_stReq[i]\n",
    "\n",
    "# plot histogram of IRR's\n",
    "IRR_Bins = np.arange(5,15,0.5)\n",
    "IRR_Hist, IRR_edges = np.histogram(Ind_IRR[Ind_IRR>0]*100, IRR_Bins, density=False)\n",
    "IRR_Widths = IRR_edges[1:]-IRR_edges[:-1]\n",
    "fig = plt.figure()\n",
    "fig.set_size_inches(12,4)\n",
    "ax1 = fig.add_subplot(131)\n",
    "ax1.bar(IRR_Bins[:-1], IRR_Hist/float(np.sum(IRR_Hist)), width=IRR_Widths, color='g', alpha=0.5)\n",
    "ax1.set_xlabel('IRR (%)',fontsize=fs)\n",
    "ax1.set_ylabel('frequency',fontsize=fs)\n",
    "ax1.tick_params(axis='both', which='major', labelsize=fs)\n",
    "MIRR_Hist, IRR_edges = np.histogram(MG_IRR[MG_IRR>0]*100, IRR_Bins, density=False)\n",
    "ax1.bar(IRR_Bins[:-1], MIRR_Hist/float(np.sum(MIRR_Hist)), width=IRR_Widths, color='b', alpha=0.5)\n",
    "ax1.set_xlim([5,13.5])\n",
    "\n",
    "ImportRedMG = np.zeros(kcluster)\n",
    "ImportRedInd = np.zeros(kcluster)\n",
    "for i in range(kcluster):\n",
    "    load1 = MG_dem_solar[i,:]\n",
    "    load2 = MG_dem_storage[i,:]\n",
    "    if MG_stReq[i]>0:\n",
    "        ImportRedMG[i] = Delta_t*( np.sum(load1[load1>0]) - np.sum(load2[load2>0]) ) / MG_stReq[i]\n",
    "    load3 = MG_dem_ind_storage[i,:]\n",
    "    if Ind_stReq[i]>0:\n",
    "        ImportRedInd[i] = Delta_t*( np.sum(load1[load1>0]) - np.sum(load3[load3>0]) ) / Ind_stReq[i]\n",
    "    \n",
    "Imp_Bins = np.arange(0.01,20,1)\n",
    "Imp_Hist, Imp_edges = np.histogram(ImportRedMG, Imp_Bins, density=False)\n",
    "Imp_Widths = Imp_edges[1:]-Imp_edges[:-1]\n",
    "ax1 = fig.add_subplot(132)\n",
    "ax1.bar(Imp_Bins[:-1], Imp_Hist/float(np.sum(Imp_Hist)), width=Imp_Widths, color='b', alpha=0.5)\n",
    "Imp_Hist, Imp_edges = np.histogram(ImportRedInd, Imp_Bins, density=False)\n",
    "ax1.bar(Imp_Bins[:-1], Imp_Hist/float(np.sum(Imp_Hist)), width=Imp_Widths, color='g', alpha=0.5)\n",
    "ax1.set_xlabel('Import reduction per kWh of storage',fontsize=fs)\n",
    "ax1.set_ylabel('frequency',fontsize=fs)\n",
    "ax1.tick_params(axis='both', which='major', labelsize=fs)\n",
    "\n",
    "ExportRedMG = np.zeros(kcluster)\n",
    "ExportRedInd = np.zeros(kcluster)\n",
    "for i in range(kcluster):\n",
    "    load1 = MG_dem_solar[i,:]\n",
    "    load2 = MG_dem_storage[i,:]\n",
    "    if MG_stReq[i]>0:\n",
    "        ExportRedMG[i] = -Delta_t*( np.sum(load1[load1<0]) - np.sum(load2[load2<0]) ) / MG_stReq[i]\n",
    "    load3 = MG_dem_ind_storage[i,:]\n",
    "    if Ind_stReq[i]>0:\n",
    "        ExportRedInd[i] = -Delta_t*( np.sum(load1[load1<0]) - np.sum(load3[load3<0]) ) / Ind_stReq[i]\n",
    "    \n",
    "Exp_Hist, Imp_edges = np.histogram(ExportRedMG, Imp_Bins, density=False)\n",
    "ax1 = fig.add_subplot(133)\n",
    "ax1.bar(Imp_Bins[:-1], Exp_Hist/float(np.sum(Exp_Hist)), width=Imp_Widths, color='b', alpha=0.5)\n",
    "Exp_Hist, Imp_edges = np.histogram(ExportRedInd, Imp_Bins, density=False)\n",
    "ax1.bar(Imp_Bins[:-1], Exp_Hist/float(np.sum(Exp_Hist)), width=Imp_Widths, color='g', alpha=0.5)\n",
    "\n",
    "ax1.set_xlabel('Export reduction per kWh of storage',fontsize=fs)\n",
    "ax1.set_ylabel('frequency',fontsize=fs)\n",
    "ax1.tick_params(axis='both', which='major', labelsize=fs)\n",
    "\n",
    "fig.tight_layout()"
   ]
  },
  {
   "cell_type": "code",
   "execution_count": 21,
   "metadata": {},
   "outputs": [
    {
     "name": "stderr",
     "output_type": "stream",
     "text": [
      "/usr/local/lib/python2.7/dist-packages/ipykernel/__main__.py:12: RuntimeWarning: invalid value encountered in greater\n",
      "/usr/local/lib/python2.7/dist-packages/ipykernel/__main__.py:21: RuntimeWarning: invalid value encountered in greater\n"
     ]
    },
    {
     "data": {
      "text/plain": [
       "<matplotlib.legend.Legend at 0x7f9b186a2b50>"
      ]
     },
     "execution_count": 21,
     "metadata": {},
     "output_type": "execute_result"
    },
    {
     "data": {
      "image/png": "[encoded data removed]",
      "text/plain": [
       "<matplotlib.figure.Figure at 0x7f9b253daa10>"
      ]
     },
     "metadata": {},
     "output_type": "display_data"
    }
   ],
   "source": [
    "EAB = np.zeros((4574))\n",
    "for i in range(4574):\n",
    "    if Ind_stReq[i]>0:\n",
    "        EAB[i] = 12*Ind_benefit[i]/Ind_stReq[i]\n",
    "MEAB = np.zeros((kcluster))\n",
    "for i in range(kcluster):\n",
    "    if MG_stReq[i]>0:\n",
    "        MEAB[i] = 12*MG_benefit[i]/MG_stReq[i]\n",
    "\n",
    "# plot histogram of IRR's\n",
    "IRR_Bins = np.arange(5,15,0.5)\n",
    "IRR_Hist, IRR_edges = np.histogram(Ind_IRR[Ind_IRR>0]*100, IRR_Bins, density=False)\n",
    "IRR_Widths = IRR_edges[1:]-IRR_edges[:-1]\n",
    "fig = plt.figure()\n",
    "fig.set_size_inches(5,4)\n",
    "ax1 = fig.add_subplot(111)\n",
    "ax1.bar(IRR_Bins[:-1], IRR_Hist/float(np.sum(IRR_Hist)), width=IRR_Widths, color='g', alpha=0.5)\n",
    "ax1.set_xlabel('IRR (%)',fontsize=fs)\n",
    "ax1.set_ylabel('Frequency',fontsize=fs)\n",
    "ax1.tick_params(axis='both', which='major', labelsize=fs)\n",
    "MIRR_Hist, IRR_edges = np.histogram(MG_IRR[MG_IRR>0]*100, IRR_Bins, density=False)\n",
    "ax1.bar(IRR_Bins[:-1], MIRR_Hist/float(np.sum(MIRR_Hist)), width=IRR_Widths, color='b', alpha=0.5)\n",
    "ax1.set_xlim([5,13.5])\n",
    "\n",
    "r1 = plt.Rectangle((0, 0), 1, 1, fc='blue', alpha=0.5)\n",
    "r2 = plt.Rectangle((0, 0), 1, 1, fc='green', alpha=0.5)\n",
    "ax1.legend([r1,r2], ['Microgrid', 'Individual'], loc=1)\n",
    "#fig.savefig('Images/IRRs.png', dpi=300, format='png',  bbox_inches='tight')"
   ]
  },
  {
   "cell_type": "code",
   "execution_count": null,
   "metadata": {
    "collapsed": true
   },
   "outputs": [],
   "source": []
  }
 ],
 "metadata": {
  "kernelspec": {
   "display_name": "Python 2",
   "language": "python",
   "name": "python2"
  },
  "language_info": {
   "codemirror_mode": {
    "name": "ipython",
    "version": 2
   },
   "file_extension": ".py",
   "mimetype": "text/x-python",
   "name": "python",
   "nbconvert_exporter": "python",
   "pygments_lexer": "ipython2",
   "version": "2.7.12"
  }
 },
 "nbformat": 4,
 "nbformat_minor": 1
}
